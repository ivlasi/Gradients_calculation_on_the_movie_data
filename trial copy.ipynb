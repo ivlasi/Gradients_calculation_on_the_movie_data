{
 "cells": [
  {
   "cell_type": "code",
   "execution_count": 1,
   "metadata": {},
   "outputs": [],
   "source": [
    "import numpy as np\n",
    "import nibabel as nib\n",
    "import os"
   ]
  },
  {
   "cell_type": "code",
   "execution_count": 2,
   "metadata": {},
   "outputs": [
    {
     "name": "stdout",
     "output_type": "stream",
     "text": [
      "Processing file: sub-32357_ses-20210721_surf-fsLR-32k_atlas-schaefer-300_desc-FC.shape.gii for subject 32357, session 20210721\n",
      "Processing file: sub-33537_ses-20220314_surf-fsLR-32k_atlas-schaefer-300_desc-FC.shape.gii for subject 33537, session 20220314\n",
      "Processing file: sub-33614_ses-20220309_surf-fsLR-32k_atlas-schaefer-300_desc-FC.shape.gii for subject 33614, session 20220309\n",
      "Processing file: sub-33620_ses-20220329_surf-fsLR-32k_atlas-schaefer-300_desc-FC.shape.gii for subject 33620, session 20220329\n",
      "Processing file: sub-33659_ses-20220411_surf-fsLR-32k_atlas-schaefer-300_desc-FC.shape.gii for subject 33659, session 20220411\n"
     ]
    }
   ],
   "source": [
    "connectome_root_dir = \"/home/iv285/rds/rds-cam-clin-qmin-nCu8GHKxWRw/data/Iryna_analysis/Alzheimer_SUB_prep/\"\n",
    "data = []\n",
    "for sub_dir in sorted(os.listdir(connectome_root_dir)):\n",
    "        if not sub_dir.startswith(\"sub-\"):\n",
    "            continue\n",
    "\n",
    "        subject_path = os.path.join(connectome_root_dir, sub_dir)\n",
    "        for ses_dir in sorted(os.listdir(subject_path)):\n",
    "            if not ses_dir.startswith(\"ses-\"):\n",
    "                continue\n",
    "\n",
    "            session_path = os.path.join(subject_path, ses_dir, \"func\", \"desc-se_task-rest_acq-AP_bold\", \"surf\")\n",
    "            if not os.path.exists(session_path):\n",
    "                continue\n",
    "\n",
    "            for file in os.listdir(session_path):\n",
    "                if file.endswith(\"atlas-schaefer-300_desc-FC.shape.gii\"):\n",
    "                    subject_id = sub_dir.split(\"-\")[1]\n",
    "                    session_id = ses_dir.split(\"-\")[1]\n",
    "                    print(f\"Processing file: {file} for subject {subject_id}, session {session_id}\")\n",
    "\n",
    "                    # Full file path\n",
    "                    file_path = os.path.join(session_path, file)\n",
    "                    gii_data = nib.load(file_path)\n",
    "                    \n",
    "                    data.append(gii_data.darrays[0].data)\n",
    "\n",
    "\n",
    "                    \n"
   ]
  },
  {
   "cell_type": "code",
   "execution_count": 3,
   "metadata": {},
   "outputs": [],
   "source": [
    "data_numpy = np.stack(data,2)"
   ]
  },
  {
   "cell_type": "code",
   "execution_count": 4,
   "metadata": {},
   "outputs": [
    {
     "data": {
      "text/plain": [
       "(349, 349, 5)"
      ]
     },
     "execution_count": 4,
     "metadata": {},
     "output_type": "execute_result"
    }
   ],
   "source": [
    "data_numpy.shape"
   ]
  },
  {
   "cell_type": "code",
   "execution_count": 5,
   "metadata": {},
   "outputs": [],
   "source": [
    "cfg = {}\n",
    "\n",
    "\n",
    "# cfg['conmat'] = gii_data.darrays[0].data.reshape(349,349,1)\n",
    "cfg['conmat'] = data_numpy\n",
    "cfg['kerneltype'] = 'cs'\n",
    "cfg['typeAverage'] = 'mean'\n",
    "cfg['ncomp'] = 3\n",
    "\n",
    "\n"
   ]
  },
  {
   "cell_type": "code",
   "execution_count": 6,
   "metadata": {},
   "outputs": [],
   "source": [
    "from utils_gradient_estimate_template import btftd_util_gradients_estimate_template"
   ]
  },
  {
   "cell_type": "code",
   "execution_count": 7,
   "metadata": {},
   "outputs": [],
   "source": [
    "grad = btftd_util_gradients_estimate_template(cfg,0)"
   ]
  },
  {
   "cell_type": "code",
   "execution_count": 8,
   "metadata": {},
   "outputs": [
    {
     "data": {
      "text/plain": [
       "(349, 3)"
      ]
     },
     "execution_count": 8,
     "metadata": {},
     "output_type": "execute_result"
    }
   ],
   "source": [
    "grad['CS'].gradients_.shape"
   ]
  },
  {
   "cell_type": "code",
   "execution_count": 9,
   "metadata": {},
   "outputs": [],
   "source": [
    "cfg = {}\n",
    "\n",
    "\n",
    "# cfg['conmat'] = gii_data.darrays[0].data.reshape(349,349,1)\n",
    "cfg['conmat'] = data_numpy\n",
    "cfg['kerneltype'] = 'cosine'\n",
    "cfg['ncomp'] = 3\n",
    "cfg['nparcel'] = 349\n",
    "cfg['holdOut'] = grad['CS'].gradients_\n",
    "cfg['conmat'] = data_numpy\n",
    "cfg['doZscoreGrad'] = 0\n",
    "cfg['doFisherZ'] = 0\n",
    "\n",
    "\n"
   ]
  },
  {
   "cell_type": "code",
   "execution_count": 10,
   "metadata": {},
   "outputs": [],
   "source": [
    "from calculate_surface_gradients import btftd_01_proc_gradiens_surf"
   ]
  },
  {
   "cell_type": "code",
   "execution_count": 11,
   "metadata": {},
   "outputs": [
    {
     "name": "stderr",
     "output_type": "stream",
     "text": [
      "/home/iv285/miniforge3/envs/neuroenv/lib/python3.9/site-packages/brainspace/gradient/embedding.py:77: UserWarning: Graph is not fully connected.\n",
      "  warnings.warn('Graph is not fully connected.')\n",
      "/home/iv285/miniforge3/envs/neuroenv/lib/python3.9/site-packages/brainspace/gradient/embedding.py:77: UserWarning: Graph is not fully connected.\n",
      "  warnings.warn('Graph is not fully connected.')\n"
     ]
    }
   ],
   "source": [
    "explainedCorr, explainedSVD, explainedXFM, alignEmbed, corrGrad = btftd_01_proc_gradiens_surf(0,0,cfg)"
   ]
  },
  {
   "cell_type": "code",
   "execution_count": null,
   "metadata": {},
   "outputs": [],
   "source": []
  },
  {
   "cell_type": "code",
   "execution_count": null,
   "metadata": {},
   "outputs": [],
   "source": []
  },
  {
   "cell_type": "code",
   "execution_count": null,
   "metadata": {},
   "outputs": [],
   "source": []
  }
 ],
 "metadata": {
  "kernelspec": {
   "display_name": "neuroenv",
   "language": "python",
   "name": "python3"
  },
  "language_info": {
   "codemirror_mode": {
    "name": "ipython",
    "version": 3
   },
   "file_extension": ".py",
   "mimetype": "text/x-python",
   "name": "python",
   "nbconvert_exporter": "python",
   "pygments_lexer": "ipython3",
   "version": "3.9.21"
  }
 },
 "nbformat": 4,
 "nbformat_minor": 2
}
